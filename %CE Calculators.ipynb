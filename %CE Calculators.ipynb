{
 "cells": [
  {
   "cell_type": "code",
   "execution_count": 1,
   "metadata": {},
   "outputs": [],
   "source": [
    "import numpy as np"
   ]
  },
  {
   "cell_type": "markdown",
   "metadata": {},
   "source": [
    "#### Burgers' PDE"
   ]
  },
  {
   "cell_type": "code",
   "execution_count": 2,
   "metadata": {},
   "outputs": [],
   "source": [
    "# Burgers & $u_t = 0.003063u_{xx}-0.986174uu_{x}$ & \n",
    "# \\makecell[l]{$u_t = 0.002877u_{xx}-0.955975uu_{x}$} & \n",
    "# \\makecell[l]{$u_t = 0.000920u_{xx}-0.606868uu_{x}$}\\\\"
   ]
  },
  {
   "cell_type": "code",
   "execution_count": 3,
   "metadata": {},
   "outputs": [],
   "source": [
    "def show4(e): return format(e, \".4f\")"
   ]
  },
  {
   "cell_type": "code",
   "execution_count": 4,
   "metadata": {},
   "outputs": [
    {
     "name": "stdout",
     "output_type": "stream",
     "text": [
      "2.5778$\\pm$1.1952\n",
      "7.0094$\\pm$2.6069\n",
      "55.2053$\\pm$15.8921\n"
     ]
    }
   ],
   "source": [
    "g1,g2 = 0.01/np.pi, 1\n",
    "coeffs = [[0.003063, 0.986174],\n",
    "        [0.002877, 0.955975],\n",
    "        [0.000920, 0.606868]]\n",
    "for c1,c2 in coeffs:\n",
    "    errs = np.array([abs(g1-c1)/g1, abs(g2-c2)/g2])*100\n",
    "    print(show4(errs.mean())+\"$\\pm$\"+show4(errs.std()))"
   ]
  },
  {
   "cell_type": "markdown",
   "metadata": {},
   "source": [
    "#### KdV"
   ]
  },
  {
   "cell_type": "code",
   "execution_count": 5,
   "metadata": {},
   "outputs": [],
   "source": [
    "# KdV & \\makecell[l]{$u_t = -0.973080u_{xxx}-5.911682uu_{x}$} & \n",
    "# \\makecell[l]{$u_t = -0.930404u_{xxx}-5.821632uu_{x}$} & \n",
    "# \\makecell[l]{$u_t = -0.846196u_{xxx}-5.573660uu_{x}$}\\\\"
   ]
  },
  {
   "cell_type": "code",
   "execution_count": 6,
   "metadata": {},
   "outputs": [
    {
     "name": "stdout",
     "output_type": "stream",
     "text": [
      "2.0820$\\pm$0.6100\n",
      "4.9662$\\pm$1.9934\n",
      "11.2430$\\pm$4.1374\n"
     ]
    }
   ],
   "source": [
    "g1,g2 = 1, 6\n",
    "coeffs = [[0.973080, 5.911682],\n",
    "        [0.930404, 5.821632],\n",
    "        [0.846196, 5.573660]]\n",
    "for c1,c2 in coeffs:\n",
    "    errs = np.array([abs(g1-c1)/g1, abs(g2-c2)/g2])*100\n",
    "    print(show4(errs.mean())+\"$\\pm$\"+show4(errs.std()))"
   ]
  },
  {
   "cell_type": "markdown",
   "metadata": {},
   "source": [
    "#### KS"
   ]
  },
  {
   "cell_type": "code",
   "execution_count": 7,
   "metadata": {},
   "outputs": [],
   "source": [
    "# KS & \\makecell[l]{$u_t= -0.964878u_{xx}-0.914432u_{xxxx}$ \\\\ $-0.940299uu_x$} & \n",
    "# \\makecell[l]{$u_t = -0.898254u_{xx}-0.808380u_{xxxx}$ \\\\ $-0.803464uu_x$} & \n",
    "# \\makecell[l]{$u_t = -0.846190u_{xx}-0.766933u_{xxxx}$ \\\\ $-0.855584uu_x$}\\\\"
   ]
  },
  {
   "cell_type": "code",
   "execution_count": 8,
   "metadata": {},
   "outputs": [
    {
     "name": "stdout",
     "output_type": "stream",
     "text": [
      "6.0130$\\pm$2.0597\n",
      "16.3301$\\pm$4.3572\n",
      "17.7098$\\pm$3.9762\n"
     ]
    }
   ],
   "source": [
    "g1,g2,g3 = 1,1,1\n",
    "coeffs = [[0.964878, 0.914432, 0.940299],\n",
    "        [0.898254, 0.808380, 0.803464],\n",
    "        [0.846190, 0.766933, 0.855584]]\n",
    "for c1,c2,c3 in coeffs:\n",
    "    errs = np.array([abs(g1-c1)/g1, abs(g2-c2)/g2, abs(g3-c3)/g3])*100\n",
    "    print(show4(errs.mean())+\"$\\pm$\"+show4(errs.std()))"
   ]
  },
  {
   "cell_type": "markdown",
   "metadata": {},
   "source": [
    "#### QHO"
   ]
  },
  {
   "cell_type": "code",
   "execution_count": 9,
   "metadata": {},
   "outputs": [],
   "source": [
    "# QHO & \\makecell[l]{\\makecell[l]{$u_t = (-0.000233+0.499484i)u_{xx}$ \\\\ $+(-0.001970-1.000545i)0.5x^{2}u$}} & \n",
    "# \\makecell[l]{$u_t = (0.000702+0.490803i)u_{xx}$ \\\\ $+(0.000641-0.994030i)\\frac{x^2}{2}u$} & \n",
    "# \\makecell[l]{$u_t = (-0.001146 +0.487772i)u_{xx}$ \\\\ $+(-0.001516 -0.989395i)\\frac{x^2}{2}u$}\\\\"
   ]
  },
  {
   "cell_type": "code",
   "execution_count": 10,
   "metadata": {},
   "outputs": [
    {
     "name": "stdout",
     "output_type": "stream",
     "text": [
      "0.1588$\\pm$0.0456\n",
      "1.2226$\\pm$0.6222\n",
      "1.7638$\\pm$0.6925\n"
     ]
    }
   ],
   "source": [
    "g1,g2 = 0.5*1j, -1j\n",
    "coeffs = [[(-0.000233+0.499484*1j), (-0.001970-1.000545*1j)],\n",
    "[(0.000702+0.490803*1j), (0.000641-0.994030*1j)],\n",
    "[(-0.001146+0.487772*1j), (-0.001516-0.989395*1j)]]\n",
    "for c1,c2 in coeffs:\n",
    "    errs = np.array([abs(g1-c1)/abs(g1), abs(g2-c2)/abs(g2)])*100\n",
    "    print(show4(errs.mean())+\"$\\pm$\"+show4(errs.std()))"
   ]
  },
  {
   "cell_type": "markdown",
   "metadata": {},
   "source": [
    "#### NLS"
   ]
  },
  {
   "cell_type": "code",
   "execution_count": 11,
   "metadata": {},
   "outputs": [],
   "source": [
    "# NLS & \\makecell[l]{$u_t = (0.003234+0.500474i)u_{xx}$ \\\\ $+(0.001199+1.000176i)u\\norm{u}^{2}_{2}$} & \n",
    "# \\makecell[l]{$u_t = (-0.010605+0.507761i)u_{xx}$ \\\\ $+ (-0.008820+1.008750i)u\\norm{u}^{2}_{2}$} & \n",
    "# \\makecell[l]{$u_t = (-0.016447+0.509700i)u_{xx}$ \\\\ $+ (-0.020763+1.029535i)u\\norm{u}^{2}_{2}$}\\\\"
   ]
  },
  {
   "cell_type": "code",
   "execution_count": 12,
   "metadata": {},
   "outputs": [
    {
     "name": "stdout",
     "output_type": "stream",
     "text": [
      "0.3874$\\pm$0.2663\n",
      "1.9353$\\pm$0.6930\n",
      "3.7146$\\pm$0.1043\n"
     ]
    }
   ],
   "source": [
    "g1,g2 = 0.5*1j, +1j\n",
    "coeffs = [[(0.003234+0.500474*1j), (0.001199+1.000176*1j)],\n",
    "[(-0.010605+0.507761*1j), (-0.008820+1.008750*1j)],\n",
    "[(-0.016447+0.509700*1j), (-0.020763+1.029535*1j)]]\n",
    "for c1,c2 in coeffs:\n",
    "    errs = np.array([abs(g1-c1)/abs(g1), abs(g2-c2)/abs(g2)])*100\n",
    "    print(show4(errs.mean())+\"$\\pm$\"+show4(errs.std()))"
   ]
  },
  {
   "cell_type": "code",
   "execution_count": null,
   "metadata": {},
   "outputs": [],
   "source": []
  }
 ],
 "metadata": {
  "kernelspec": {
   "display_name": "Python 3",
   "language": "python",
   "name": "python3"
  },
  "language_info": {
   "codemirror_mode": {
    "name": "ipython",
    "version": 3
   },
   "file_extension": ".py",
   "mimetype": "text/x-python",
   "name": "python",
   "nbconvert_exporter": "python",
   "pygments_lexer": "ipython3",
   "version": "3.9.10"
  }
 },
 "nbformat": 4,
 "nbformat_minor": 4
}
